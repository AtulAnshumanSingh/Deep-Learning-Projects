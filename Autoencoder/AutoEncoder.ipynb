{
  "nbformat": 4,
  "nbformat_minor": 0,
  "metadata": {
    "colab": {
      "name": "AutoEncoder.ipynb",
      "version": "0.3.2",
      "provenance": [],
      "collapsed_sections": []
    },
    "kernelspec": {
      "name": "python3",
      "display_name": "Python 3"
    },
    "accelerator": "GPU"
  },
  "cells": [
    {
      "metadata": {
        "id": "t3eYVaEi0S-o",
        "colab_type": "code",
        "outputId": "afa7dcfd-cb63-4c72-91fa-74e9dfc139ec",
        "colab": {
          "base_uri": "https://localhost:8080/",
          "height": 443
        }
      },
      "cell_type": "code",
      "source": [
        "import tensorflow as tf\n",
        "import numpy as np\n",
        "from tensorflow.examples.tutorials.mnist import input_data\n",
        "\n",
        "def encoder(input, input_feature):\n",
        "    \n",
        "    with tf.name_scope(\"encoder\"):\n",
        "\n",
        "        with tf.name_scope(\"layer_1\"):\n",
        "            \n",
        "            input_features = input_feature\n",
        "            w = tf.get_variable('weights1', [input_features, 1000], initializer=tf.random_normal_initializer(stddev=(1.0/input_features)**0.5))\n",
        "            b = tf.get_variable('biases1', [1000],initializer=tf.constant_initializer(0.0))\n",
        "        \n",
        "            pool = tf.reshape(input, [-1, input_features])\n",
        "            fc1 = tf.nn.sigmoid(tf.matmul(pool, w) + b, name='relu')\n",
        "        \n",
        "        with tf.name_scope(\"layer_2\"):\n",
        "        \n",
        "            w2 = tf.get_variable('weights2', [1000, 500], initializer=tf.random_normal_initializer(stddev=(1.0/1000)**0.5))\n",
        "            b2 = tf.get_variable('biases2', [500],initializer=tf.constant_initializer(0.0))\n",
        "        \n",
        "            pool2 = tf.reshape(fc1, [-1, 1000])\n",
        "            fc2 = tf.nn.sigmoid(tf.matmul(pool2, w2) + b2, name='relu')\n",
        "        \n",
        "        with tf.name_scope(\"layer_3\"):\n",
        "        \n",
        "            w3 = tf.get_variable('weights3', [500, 250], initializer=tf.random_normal_initializer(stddev=(1.0/500)**0.5))\n",
        "            b3 = tf.get_variable('biases3', [250],initializer=tf.constant_initializer(0.0))\n",
        "        \n",
        "            pool3 = tf.reshape(fc2, [-1, 500])\n",
        "            fc3 = tf.nn.sigmoid(tf.matmul(pool3, w3) + b3, name='relu')\n",
        "            \n",
        "        with tf.name_scope(\"layer_4\"):\n",
        "        \n",
        "            w4 = tf.get_variable('weights4', [250, 2], initializer=tf.random_normal_initializer(stddev=(1.0/250)**0.5))\n",
        "            b4 = tf.get_variable('biases4', [2],initializer=tf.constant_initializer(0.0))\n",
        "        \n",
        "            pool4 = tf.reshape(fc3, [-1, 250])\n",
        "            fc4 = tf.nn.sigmoid(tf.matmul(pool4, w4) + b4, name='relu')\n",
        "    \n",
        "    return fc4\n",
        "\n",
        "def decoder(input, input_feature):\n",
        "    \n",
        "    with tf.name_scope(\"decoder\"):\n",
        "\n",
        "        with tf.name_scope(\"layer_1\"):\n",
        "            \n",
        "            input_features = input_feature\n",
        "            w = tf.get_variable('weights12', [input_features, 250], initializer=tf.random_normal_initializer(stddev=(1.0/2)**0.5))\n",
        "            b = tf.get_variable('biases12', [250],initializer=tf.constant_initializer(0.0))\n",
        "        \n",
        "            pool = tf.reshape(input, [-1, input_features])\n",
        "            fc11 = tf.nn.sigmoid(tf.matmul(pool, w) + b, name='relu')\n",
        "        \n",
        "        with tf.name_scope(\"layer_2\"):\n",
        "        \n",
        "            w2 = tf.get_variable('weights22', [250, 500], initializer=tf.random_normal_initializer(stddev=(1.0/250)**0.5))\n",
        "            b2 = tf.get_variable('biases22', [500],initializer=tf.constant_initializer(0.0))\n",
        "        \n",
        "            pool2 = tf.reshape(fc11, [-1, 250])\n",
        "            fc12 = tf.nn.sigmoid(tf.matmul(pool2, w2) + b2, name='relu')\n",
        "        \n",
        "        with tf.name_scope(\"layer_32\"):\n",
        "        \n",
        "            w3 = tf.get_variable('weights32', [500, 1000], initializer=tf.random_normal_initializer(stddev=(1.0/500)**0.5))\n",
        "            b3 = tf.get_variable('biases32', [1000],initializer=tf.constant_initializer(0.0))\n",
        "        \n",
        "            pool3 = tf.reshape(fc12, [-1, 500])\n",
        "            fc13 = tf.nn.sigmoid(tf.matmul(pool3, w3) + b3, name='relu')\n",
        "            \n",
        "        with tf.name_scope(\"layer_4\"):\n",
        "        \n",
        "            w4 = tf.get_variable('weights42', [1000, 784], initializer=tf.random_normal_initializer(stddev=(1.0/1000)**0.5))\n",
        "            b4 = tf.get_variable('biases42', [784],initializer=tf.constant_initializer(0.0))\n",
        "        \n",
        "            pool4 = tf.reshape(fc13, [-1, 1000])\n",
        "            fc14 = tf.nn.sigmoid(tf.matmul(pool4, w4) + b4, name='relu')\n",
        "    \n",
        "    return fc14\n",
        "\n",
        "\n",
        "X = tf.placeholder(tf.float32, [None, 784], name=\"X_placeholder\")\n",
        "\n",
        "model = encoder(X, 784)\n",
        "output = decoder(model, 2)\n",
        "\n",
        "\n",
        "l2 = tf.sqrt(tf.reduce_sum(tf.square(tf.subtract(output, X)),1))\n",
        "train_loss = tf.reduce_mean(l2)\n",
        "\n",
        "global_step = tf.Variable(0, name='global_step',trainable=False)\n",
        "\n",
        "optimizer = tf.train.AdamOptimizer(learning_rate=0.001,  name='Adam').minimize(train_loss, global_step=global_step)\n",
        "\n",
        "MNIST = input_data.read_data_sets(\"/data/mnist\", one_hot=True)\n",
        "\n",
        "BATCH_SIZE = 100\n",
        "training_epochs = 200\n",
        "\n",
        "with tf.Session() as sess:\n",
        "    sess.run(tf.global_variables_initializer())\n",
        "\n",
        "    initial_step = global_step.eval()\n",
        "\n",
        "    n_batches = int(MNIST.train.num_examples / BATCH_SIZE)\n",
        "\n",
        "    total_loss = 0.0\n",
        "    for epoch in range(training_epochs):\n",
        "      total_loss = 0.0\n",
        "      for index in range(BATCH_SIZE):\n",
        "          X_batch, Y_batch = MNIST.train.next_batch(BATCH_SIZE)\n",
        "          _, out, loss_batch = sess.run([optimizer, output, train_loss],feed_dict={X: X_batch}) \n",
        "          total_loss += loss_batch\n",
        "      if epoch%10 == 0:\n",
        "        print(\"Total loss at epoch {}\".format(epoch),\" is {}\".format(total_loss/BATCH_SIZE))\n"
      ],
      "execution_count": 99,
      "outputs": [
        {
          "output_type": "stream",
          "text": [
            "Extracting /data/mnist/train-images-idx3-ubyte.gz\n",
            "Extracting /data/mnist/train-labels-idx1-ubyte.gz\n",
            "Extracting /data/mnist/t10k-images-idx3-ubyte.gz\n",
            "Extracting /data/mnist/t10k-labels-idx1-ubyte.gz\n",
            "Total loss at epoch 0  is 7.414696755409241\n",
            "Total loss at epoch 10  is 6.342852268218994\n",
            "Total loss at epoch 20  is 6.072218623161316\n",
            "Total loss at epoch 30  is 5.9323591709136965\n",
            "Total loss at epoch 40  is 5.8719602394104005\n",
            "Total loss at epoch 50  is 5.663709354400635\n",
            "Total loss at epoch 60  is 5.616005120277404\n",
            "Total loss at epoch 70  is 5.492730760574341\n",
            "Total loss at epoch 80  is 5.465679950714112\n",
            "Total loss at epoch 90  is 5.441252055168152\n",
            "Total loss at epoch 100  is 5.401034083366394\n",
            "Total loss at epoch 110  is 5.377362885475159\n",
            "Total loss at epoch 120  is 5.34897096157074\n",
            "Total loss at epoch 130  is 5.504457058906556\n",
            "Total loss at epoch 140  is 5.307646417617798\n",
            "Total loss at epoch 150  is 5.317719311714172\n",
            "Total loss at epoch 160  is 5.2618550062179565\n",
            "Total loss at epoch 170  is 5.292851691246033\n",
            "Total loss at epoch 180  is 5.237358593940735\n",
            "Total loss at epoch 190  is 5.210805335044861\n"
          ],
          "name": "stdout"
        }
      ]
    },
    {
      "metadata": {
        "id": "63VC9sw89ShI",
        "colab_type": "code",
        "colab": {
          "base_uri": "https://localhost:8080/",
          "height": 364
        },
        "outputId": "68a0bd60-a15b-41e2-86e7-5913b39c20a8"
      },
      "cell_type": "code",
      "source": [
        "from matplotlib import pyplot as plt\n",
        "plt.imshow(out[10].reshape(28,28))"
      ],
      "execution_count": 100,
      "outputs": [
        {
          "output_type": "execute_result",
          "data": {
            "text/plain": [
              "<matplotlib.image.AxesImage at 0x7f53741b0128>"
            ]
          },
          "metadata": {
            "tags": []
          },
          "execution_count": 100
        },
        {
          "output_type": "display_data",
          "data": {
            "image/png": "[encoded data removed]",
            "text/plain": [
              "<Figure size 576x396 with 1 Axes>"
            ]
          },
          "metadata": {
            "tags": []
          }
        }
      ]
    },
    {
      "metadata": {
        "id": "qp9NZyCg4QP9",
        "colab_type": "code",
        "colab": {}
      },
      "cell_type": "code",
      "source": [
        "tf.reset_default_graph()"
      ],
      "execution_count": 0,
      "outputs": []
    }
  ]
}